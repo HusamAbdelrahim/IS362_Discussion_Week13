{
 "cells": [
  {
   "cell_type": "markdown",
   "id": "859d5ec1",
   "metadata": {},
   "source": [
    "# Author: Husam Abdelrahim\n",
    "\n",
    "## IS 362 - Dicussion Board Week 13\n",
    "\n",
    "## Thew New York Times (NYT) Design\n",
    "\n",
    "For this scenario I will be exploring the NYT Scneario, answer the following questions comes iwth the scenario design for the user and the business perspective, provide information infromation when it comes down to reverse engineering the site and also provide information in terms of what can be used in order to enhance the website or improvements that can be benefital and thought of.\n",
    "\n",
    "### Users\n",
    "\n",
    "1. Who are the target users? \n",
    "\n",
    "For any user that would usually interact with the product that is provided by the New York Times, these would be the target users:\n",
    "\n",
    "The people that like to read and see any updates that could be concering the users or that is relevant to them, also this would be a target that would like to receive updates constantly with the topic that would interest them or follow so this would actually consist of sports, events, or politicis. Many people also like to utilize a news site while being on the go and use it to pass time, so browsing for the right source and be able to maximize their subscription service if they already have (depending the scenario).\n",
    "\n",
    "2. What are their key goals?\n",
    "\n",
    "The key goals that the customer is really looking for is find a source that has reliable information, being able to use the service that connects with the consumer and basically be able intake a higher much quality content and being to browse freely as well, another note would have to be finding new topics that would be able to interest the readers and maximize their experience when it comes down to the navigation, recommendation, and being able to read the topic that they seek for\n",
    "\n",
    "3. How you help them accomplish those goals?\n",
    "\n",
    "There are many ways to help the readers and by implementing such system such as the recommendation system, adding a tab that is more personalized with a tag of \"Recommendations For You\" would be a welcome and could be used to basically to provide the right experience instantly to the user, you don't want to the user to get fustrated you want to provide the user with the right content, being able to understand the algorithm and be up to date with the changes when it comes down to the trends, have an efficient preferance, and being able to understand the balance with the market and the importance of the news and provide the right content for many of the users.\n",
    "\n",
    "### Organization\n",
    "\n",
    "1. Who are the target users?\n",
    "\n",
    "For the New York Times the target user would have to be to be the management of each department such as the one that are on the distribution and getting to see which content should be published and analyze how certain topics could benefit the platform, we also have the subscription team and a finance team that would really benefit with the right prices, understand if the subscription model is working the consumer, having an analyst with how much traffic and revneue that is being generated, and lastly media/content users who are seeking the platform that will help them form proper ideas\n",
    "\n",
    "2. What are their key goals?\n",
    "\n",
    "The key goals of the orgnization that would provide is basically to have a huge surge of increase when it comes down to the engagement, with more engagement that would mean more data to analyze and possibly could be used for further review, being able to provide a much higher quality content that is accessible and having a much competiteve edge over other news sites that could be providing services in that market, and being able to gather the insight and understanding the audience with wwhat is being seeked for.\n",
    "\n",
    "3. How you help them accomplish those goals?\n",
    "\n",
    "In order to assist with accomplishing the goals, one would have to get good data that could be used for analysis and further review and understand with what the audience is looking for, being able to have a service that is provide a good amount of content, and rich quality value that would really help with the consumer engagement with the services and more. \n",
    "\n",
    "## Reverse Engineering  of the system\n",
    "\n",
    "There are ways to having the system to be more evolved with some of teh approaches!\n",
    "\n",
    "What can be done for this is bascially having a such filters for content and being able to use the tags that could really enhance the experience and really connect with the consumer and also having a filter that understand with the consumer interaction with the content and how they would behave. Being about to adjust with the content pending on the behavior of the reader and being able to update the preferences pending on the reader's past history and the interaction. So what they system will be doing for us is that is going to basically recommend topic and the right information to the users and adjust as the system collects more information on the user, enhancing it to make sure it's more engaging with the user. So overall have a system that would recommend content to the reader and enable system to enhance the services for the business and the consumer in return receiving long retentions.\n",
    "\n",
    "## Features to be improved\n",
    "\n",
    "There are many ways with how this can be improved and some of the improvement can show why the article is trending, having a system that would display an analysis and why it's getting more click then usual, a feature that can actually be implemented is the metrics like how long has the user been reading, and implement more content that would connect with the user and provide new content that is more effecitive, and how can the service be more applicable? Like for example, how can the user interact with a better user interface and receive a much better user experience.\n",
    "\n",
    "\n"
   ]
  }
 ],
 "metadata": {
  "language_info": {
   "name": "python"
  }
 },
 "nbformat": 4,
 "nbformat_minor": 5
}
